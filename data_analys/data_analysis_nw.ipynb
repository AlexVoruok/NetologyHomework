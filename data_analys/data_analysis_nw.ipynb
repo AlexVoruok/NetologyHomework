{
 "cells": [
  {
   "cell_type": "code",
   "execution_count": 1,
   "metadata": {},
   "outputs": [],
   "source": [
    "import pandas as pd"
   ]
  },
  {
   "cell_type": "markdown",
   "metadata": {},
   "source": [
    "# Задача 1"
   ]
  },
  {
   "cell_type": "markdown",
   "metadata": {},
   "source": [
    "Данные для проверки:\n",
    "\n",
    "count_top3([1880]) == ['John', 'William', 'Mary']\n",
    "\n",
    "count_top3([1900, 1950, 2000]) == ['James', 'John', 'Robert']\n"
   ]
  },
  {
   "cell_type": "code",
   "execution_count": null,
   "metadata": {},
   "outputs": [],
   "source": [
    "def count_top3(years):\n",
    "    # ПУстой датафрейм, куда мы будем помещать ТОП3 из каждого требуемого года:\n",
    "    names_data = pd.DataFrame({\n",
    "        'Name':[],\n",
    "        'Gender':[],\n",
    "        'Count':[]\n",
    "    })\n",
    "    \n",
    "    # Проходимся списку лет, которые передаются функции и помещаем данные из них в общий датафрейм:\n",
    "    for year in years:\n",
    "        df = pd.read_csv(f'names/yob{year}.txt', names = ['Name', 'Gender', 'Count'])\n",
    "        names_data = pd.concat([names_data, df])\n",
    "        \n",
    "    top_names = names_data.groupby(['Name']).sum().sort_values('Count', ascending=False)\n",
    "\n",
    "    return top_names.head(3)"
   ]
  },
  {
   "cell_type": "code",
   "execution_count": 108,
   "metadata": {},
   "outputs": [
    {
     "data": {
      "text/html": [
       "<div>\n",
       "<style scoped>\n",
       "    .dataframe tbody tr th:only-of-type {\n",
       "        vertical-align: middle;\n",
       "    }\n",
       "\n",
       "    .dataframe tbody tr th {\n",
       "        vertical-align: top;\n",
       "    }\n",
       "\n",
       "    .dataframe thead th {\n",
       "        text-align: right;\n",
       "    }\n",
       "</style>\n",
       "<table border=\"1\" class=\"dataframe\">\n",
       "  <thead>\n",
       "    <tr style=\"text-align: right;\">\n",
       "      <th></th>\n",
       "      <th>Count</th>\n",
       "    </tr>\n",
       "    <tr>\n",
       "      <th>Name</th>\n",
       "      <th></th>\n",
       "    </tr>\n",
       "  </thead>\n",
       "  <tbody>\n",
       "    <tr>\n",
       "      <td>John</td>\n",
       "      <td>9701.0</td>\n",
       "    </tr>\n",
       "    <tr>\n",
       "      <td>William</td>\n",
       "      <td>9562.0</td>\n",
       "    </tr>\n",
       "    <tr>\n",
       "      <td>Mary</td>\n",
       "      <td>7092.0</td>\n",
       "    </tr>\n",
       "  </tbody>\n",
       "</table>\n",
       "</div>"
      ],
      "text/plain": [
       "          Count\n",
       "Name           \n",
       "John     9701.0\n",
       "William  9562.0\n",
       "Mary     7092.0"
      ]
     },
     "execution_count": 108,
     "metadata": {},
     "output_type": "execute_result"
    }
   ],
   "source": [
    "count_top3([1880])"
   ]
  },
  {
   "cell_type": "code",
   "execution_count": 107,
   "metadata": {},
   "outputs": [
    {
     "data": {
      "text/html": [
       "<div>\n",
       "<style scoped>\n",
       "    .dataframe tbody tr th:only-of-type {\n",
       "        vertical-align: middle;\n",
       "    }\n",
       "\n",
       "    .dataframe tbody tr th {\n",
       "        vertical-align: top;\n",
       "    }\n",
       "\n",
       "    .dataframe thead th {\n",
       "        text-align: right;\n",
       "    }\n",
       "</style>\n",
       "<table border=\"1\" class=\"dataframe\">\n",
       "  <thead>\n",
       "    <tr style=\"text-align: right;\">\n",
       "      <th></th>\n",
       "      <th>Count</th>\n",
       "    </tr>\n",
       "    <tr>\n",
       "      <th>Name</th>\n",
       "      <th></th>\n",
       "    </tr>\n",
       "  </thead>\n",
       "  <tbody>\n",
       "    <tr>\n",
       "      <td>James</td>\n",
       "      <td>111789.0</td>\n",
       "    </tr>\n",
       "    <tr>\n",
       "      <td>John</td>\n",
       "      <td>109601.0</td>\n",
       "    </tr>\n",
       "    <tr>\n",
       "      <td>Robert</td>\n",
       "      <td>101368.0</td>\n",
       "    </tr>\n",
       "  </tbody>\n",
       "</table>\n",
       "</div>"
      ],
      "text/plain": [
       "           Count\n",
       "Name            \n",
       "James   111789.0\n",
       "John    109601.0\n",
       "Robert  101368.0"
      ]
     },
     "execution_count": 107,
     "metadata": {},
     "output_type": "execute_result"
    }
   ],
   "source": [
    "count_top3([1900, 1950, 2000])"
   ]
  },
  {
   "cell_type": "markdown",
   "metadata": {},
   "source": [
    "# Задача №2"
   ]
  },
  {
   "cell_type": "markdown",
   "metadata": {},
   "source": [
    "С использованием Pandas написать функцию, которая возвращает динамику изменения количества имен за указанные года в разрезе полов. Например:\n",
    "\n",
    "count_dynamics([1900, 1950, 2000]) == {\n",
    "  'F': [299810, 1713259, 1814922],\n",
    "  'M': [150486, 1790871, 1962744]\n",
    "}"
   ]
  },
  {
   "cell_type": "code",
   "execution_count": 265,
   "metadata": {},
   "outputs": [
    {
     "data": {
      "text/html": [
       "<div>\n",
       "<style scoped>\n",
       "    .dataframe tbody tr th:only-of-type {\n",
       "        vertical-align: middle;\n",
       "    }\n",
       "\n",
       "    .dataframe tbody tr th {\n",
       "        vertical-align: top;\n",
       "    }\n",
       "\n",
       "    .dataframe thead th {\n",
       "        text-align: right;\n",
       "    }\n",
       "</style>\n",
       "<table border=\"1\" class=\"dataframe\">\n",
       "  <thead>\n",
       "    <tr style=\"text-align: right;\">\n",
       "      <th></th>\n",
       "      <th>1900</th>\n",
       "      <th>1950</th>\n",
       "      <th>2000</th>\n",
       "    </tr>\n",
       "    <tr>\n",
       "      <th>Gender</th>\n",
       "      <th></th>\n",
       "      <th></th>\n",
       "      <th></th>\n",
       "    </tr>\n",
       "  </thead>\n",
       "  <tbody>\n",
       "    <tr>\n",
       "      <td>F</td>\n",
       "      <td>299798</td>\n",
       "      <td>1713065</td>\n",
       "      <td>1815295</td>\n",
       "    </tr>\n",
       "    <tr>\n",
       "      <td>M</td>\n",
       "      <td>150480</td>\n",
       "      <td>1790437</td>\n",
       "      <td>1963202</td>\n",
       "    </tr>\n",
       "  </tbody>\n",
       "</table>\n",
       "</div>"
      ],
      "text/plain": [
       "          1900     1950     2000\n",
       "Gender                          \n",
       "F       299798  1713065  1815295\n",
       "M       150480  1790437  1963202"
      ]
     },
     "execution_count": 265,
     "metadata": {},
     "output_type": "execute_result"
    }
   ],
   "source": [
    "def count_dynamics(years):\n",
    "    names_data = pd.DataFrame({})\n",
    "    \n",
    "    # Проходимся списку лет, которые передаются функции и помещаем данные из них в общий датафрейм:\n",
    "    for year in sorted(years):\n",
    "        df = pd.read_csv(f'names/yob{year}.txt', names = ['Name', 'Gender', year])\n",
    "        df = df.groupby('Gender').sum()\n",
    "        names_data = pd.concat([names_data, df], axis = 1)\n",
    "   \n",
    "    return names_data\n",
    "    \n",
    "    \n",
    "        \n",
    "count_dynamics([1900, 1950, 2000])"
   ]
  },
  {
   "cell_type": "code",
   "execution_count": 283,
   "metadata": {},
   "outputs": [
    {
     "name": "stdout",
     "output_type": "stream",
     "text": [
      "         Count\n",
      "Gender        \n",
      "F       299798\n",
      "M       150480\n",
      "          Count\n",
      "Gender         \n",
      "F       1713065\n",
      "M       1790437\n",
      "          Count\n",
      "Gender         \n",
      "F       1815295\n",
      "M       1963202\n"
     ]
    },
    {
     "data": {
      "text/html": [
       "<div>\n",
       "<style scoped>\n",
       "    .dataframe tbody tr th:only-of-type {\n",
       "        vertical-align: middle;\n",
       "    }\n",
       "\n",
       "    .dataframe tbody tr th {\n",
       "        vertical-align: top;\n",
       "    }\n",
       "\n",
       "    .dataframe thead th {\n",
       "        text-align: right;\n",
       "    }\n",
       "</style>\n",
       "<table border=\"1\" class=\"dataframe\">\n",
       "  <thead>\n",
       "    <tr style=\"text-align: right;\">\n",
       "      <th></th>\n",
       "      <th>1900</th>\n",
       "      <th>1950</th>\n",
       "      <th>2000</th>\n",
       "    </tr>\n",
       "    <tr>\n",
       "      <th>Gender</th>\n",
       "      <th></th>\n",
       "      <th></th>\n",
       "      <th></th>\n",
       "    </tr>\n",
       "  </thead>\n",
       "  <tbody>\n",
       "    <tr>\n",
       "      <td>F</td>\n",
       "      <td>299798</td>\n",
       "      <td>1713065</td>\n",
       "      <td>1815295</td>\n",
       "    </tr>\n",
       "    <tr>\n",
       "      <td>M</td>\n",
       "      <td>150480</td>\n",
       "      <td>1790437</td>\n",
       "      <td>1963202</td>\n",
       "    </tr>\n",
       "  </tbody>\n",
       "</table>\n",
       "</div>"
      ],
      "text/plain": [
       "          1900     1950     2000\n",
       "Gender                          \n",
       "F       299798  1713065  1815295\n",
       "M       150480  1790437  1963202"
      ]
     },
     "execution_count": 283,
     "metadata": {},
     "output_type": "execute_result"
    }
   ],
   "source": [
    "def count_dynamics(years):\n",
    "    names_data = pd.DataFrame({})\n",
    "    \n",
    "    # Проходимся списку лет, которые передаются функции и помещаем данные из них в общий датафрейм:\n",
    "    for year in sorted(years):\n",
    "        df = pd.read_csv(f'names/yob{year}.txt', names = ['Name', 'Gender', 'Count'])\n",
    "        df = df.groupby('Gender').sum()\n",
    "        print(df)\n",
    "        \n",
    "        names_data = pd.concat([names_data, df], axis = 1, ignore_index=True)\n",
    "    \n",
    "    names_data.columns = sorted(years)\n",
    "    return names_data\n",
    "    \n",
    "    \n",
    "        \n",
    "count = count_dynamics([1900, 1950, 2000])\n",
    "count"
   ]
  },
  {
   "cell_type": "code",
   "execution_count": null,
   "metadata": {},
   "outputs": [],
   "source": []
  }
 ],
 "metadata": {
  "kernelspec": {
   "display_name": "Python 3",
   "language": "python",
   "name": "python3"
  },
  "language_info": {
   "codemirror_mode": {
    "name": "ipython",
    "version": 3
   },
   "file_extension": ".py",
   "mimetype": "text/x-python",
   "name": "python",
   "nbconvert_exporter": "python",
   "pygments_lexer": "ipython3",
   "version": "3.7.4"
  }
 },
 "nbformat": 4,
 "nbformat_minor": 2
}
